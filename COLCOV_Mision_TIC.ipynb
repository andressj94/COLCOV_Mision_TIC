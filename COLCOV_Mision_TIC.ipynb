{
 "cells": [
  {
   "cell_type": "markdown",
   "metadata": {},
   "source": [
    "# Notas del estudiante"
   ]
  },
  {
   "cell_type": "markdown",
   "metadata": {},
   "source": [
    "#### Nombre del estudiante: Andrés Saldarriaga Jordan"
   ]
  },
  {
   "cell_type": "markdown",
   "metadata": {},
   "source": [
    "Este trabajo está basado en la habilitación del curso sobre *Fundamentos de Programación* de Misión TIC 2022. Yo soy el autor de todo el código que se encuentra a continuación."
   ]
  },
  {
   "cell_type": "markdown",
   "metadata": {},
   "source": [
    "# Material"
   ]
  },
  {
   "cell_type": "markdown",
   "metadata": {},
   "source": [
    "El líder del proyecto le brinda las siguientes especificaciones que debe considerar sobre el archivo entregado:\n",
    "- Se le brinda un archivo CSV llamado `COVCOLI.csv`.\n",
    "- Este archivo incluye características de un grupo de 1000 personas positivas. Fuente: https://cutt.ly/wmbCQOr\n",
    "- Cada renglón del archivo representa los datos de un caso positivo (Datos de UNA sola persona), excepto el primer renglón que corresponde al encabezado.\n",
    "- Cada línea tiene (separados por comas \",\") y en el siguiente orden los siguientes datos:\n",
    " 0. **index:** Índice del renglón (Inicia desde 1 hasta 1000).\n",
    " 1. **fecha reporte web:** Fecha de publicación en el sitio web.\n",
    " 2. **ID de caso:** Identificador del caso positivo.\n",
    " 3. **Nombre departamento:** Nombre del departamento donde se conoció el caso positivo.\n",
    " 4. **Nombre municipio:** Nombre del municipio donde se conoció el caso positivo.\n",
    " 5. **Edad:** Edad de la persona positiva para Covid - 19\n",
    " 6. **Unidad de medida de edad:**\n",
    "   - Años: \"1\"\n",
    "   - Meses: \"2\"\n",
    "   - Días: \"3\"\n",
    " 7. **Sexo:**\n",
    "   - Masculino: \"M\" o \"m\"\n",
    "   - Femenino: \"F\" o \"f\"\n",
    " 8. **Estado:**\n",
    "   - Casos leves: \"Leve\", \"LEVE\", o \"leve\"\n",
    "   - Casos moderados: \"Moderado\"\n",
    "   - Casos graves: \"Grave\"\n",
    "   - Fallecidos: \"Fallecido\"\n",
    "- La visualización la puede realizar en Microsoft Excel o bloc de notas descargando el segundo archivo de la descripción.\n",
    "- Usted NO debe hacerle modificaciones al archivo."
   ]
  },
  {
   "cell_type": "markdown",
   "metadata": {},
   "source": [
    "# Ejercicio"
   ]
  },
  {
   "cell_type": "markdown",
   "metadata": {},
   "source": [
    "Crear un nuevo archivo llamado `analisis_covcol1.csv`, cuyo delimitador no será el que está por defecto (Coma \",\") sino un punto y coma \";\", con este archivo hará lo siguiente:\n",
    "\n",
    "El encabezado debe ser: \"`Sexo;Edad en agnos;Concepto`\".\n",
    "\n",
    "Lea el archivo `COVCOLI.csv` línea por línea, y a medida que vaya leyendo, escriba en `analisis_covcol1.csv` lo siguiente:\n",
    "- El sexo del caso positivo que está leyendo (Deberá dejarlo tal cual como aparece en la base de datos)\n",
    "- Un punto y coma (\";\")\n",
    "- La edad en años del caso positivo que está leyendo\n",
    " - Si la persona tiene menos de un año de edad, pondrá \"0\".\n",
    " - Si la persona tiene más de un año de edad, pero su unidad de medida es en meses, se hace la conversión a años, y tomamos la parte entera; ejemplo: si la persona tiene 23 meses de edad, se guarda en el archivo CSV un \"1\"\n",
    " - Este debe ser un número entero, no puede haber decimales.\n",
    "- Un punto y coma (\";\")\n",
    "- Una cadena de texto que será un concepto respecto a la edad de la persona contagiada que está leyendo (Lo resaltado en rojo equivale a UN espacio en blanco):\n",
    " - `Primera infancia`: Desde los 0 años hasta los 5 años (Incluidos ambos)\n",
    " - `Infante`: Desde los 6 años hasta los 11 años (Incluidos ambos)\n",
    " - `Adolescente`: Desde los 12 años hasta los 17 años (Incluidos ambos)\n",
    " - `Adulto`: Desde los 18 años hasta los 59 años (Incluidos ambos)\n",
    " - `Persona mayor`: Desde los 60 años en adelante\n"
   ]
  },
  {
   "cell_type": "markdown",
   "metadata": {},
   "source": [
    "# Solución con el módulo CSV"
   ]
  },
  {
   "cell_type": "markdown",
   "metadata": {},
   "source": [
    "### Revisión"
   ]
  },
  {
   "cell_type": "code",
   "execution_count": 1,
   "metadata": {},
   "outputs": [
    {
     "name": "stdout",
     "output_type": "stream",
     "text": [
      "['index', 'fecha reporte web', 'ID de caso', 'Nombre departamento', 'Nombre municipio', 'Edad', 'Unidad de medida de edad', 'Sexo', 'Estado']\n",
      "['1', '2020-03-06', '1', 'BOGOTA', 'BOGOTA', '19', '1', 'F', 'Leve']\n",
      "['2', '2020-03-09', '2', 'VALLE', 'BUGA', '34', '1', 'M', 'Leve']\n",
      "['3', '2020-03-09', '3', 'ANTIOQUIA', 'MEDELLIN', '50', '1', 'F', 'Leve']\n",
      "['4', '2020-03-11', '4', 'ANTIOQUIA', 'MEDELLIN', '55', '1', 'M', 'Leve']\n",
      "['5', '2020-03-11', '5', 'ANTIOQUIA', 'MEDELLIN', '25', '1', 'M', 'Leve']\n"
     ]
    }
   ],
   "source": [
    "import csv\n",
    "\n",
    "with open('input_data/COVCOLI.csv', mode='r') as file:\n",
    "    data = csv.reader(file, delimiter=',')\n",
    "    for _ in range(6):\n",
    "        print(next(data))"
   ]
  },
  {
   "cell_type": "markdown",
   "metadata": {},
   "source": [
    "### Solución"
   ]
  },
  {
   "cell_type": "code",
   "execution_count": 2,
   "metadata": {},
   "outputs": [],
   "source": [
    "import csv\n",
    "\n",
    "input_path = 'input_data/COVCOLI.csv'\n",
    "output_path = 'output_data/analisis_covcol1.csv'\n",
    "\n",
    "with open(input_path, mode='r') as input_file:\n",
    "    input_data = csv.reader(input_file, delimiter=',')\n",
    "    \n",
    "    with open(output_path, mode='w', newline='') as output_file:\n",
    "        output_data = csv.writer(output_file, delimiter=';')\n",
    "        \n",
    "        header = ['Sexo', 'Edad en agnos', 'Concepto']\n",
    "        output_data.writerow(header) #escribir encabezado del CSV de salida\n",
    "        next(input_data) #saltar encabezado del CSV de entrada\n",
    "        \n",
    "        for input_row in input_data:\n",
    "            \n",
    "            output_row = []\n",
    "            \n",
    "            age = int(input_row[5])\n",
    "            unit = int(input_row[6])\n",
    "            sex = input_row[7]\n",
    "            \n",
    "            #Sexo\n",
    "            output_row.append(sex)\n",
    "            \n",
    "            #Edad\n",
    "            if unit == '2': #edad en meses\n",
    "                age //= 12\n",
    "            elif unit == '3': #edad en días\n",
    "                age //= 365\n",
    "            output_row.append(str(age))\n",
    "            \n",
    "            #Concepto\n",
    "            if age < 6:\n",
    "                concept = 'Primera infancia'\n",
    "            elif 6 <= age < 12:\n",
    "                concept = 'Infante'\n",
    "            elif 12 <= age < 18:\n",
    "                concept = 'Adolescente'\n",
    "            elif 18 <= age < 60:\n",
    "                concept = 'Adulto'\n",
    "            else:\n",
    "                concept = 'Persona mayor'\n",
    "            output_row.append(concept)\n",
    "            \n",
    "            output_data.writerow(output_row)"
   ]
  },
  {
   "cell_type": "markdown",
   "metadata": {},
   "source": [
    "# Solución con el módulo pandas"
   ]
  },
  {
   "cell_type": "markdown",
   "metadata": {},
   "source": [
    "### Revisión"
   ]
  },
  {
   "cell_type": "code",
   "execution_count": 3,
   "metadata": {},
   "outputs": [
    {
     "data": {
      "text/html": [
       "<div>\n",
       "<style scoped>\n",
       "    .dataframe tbody tr th:only-of-type {\n",
       "        vertical-align: middle;\n",
       "    }\n",
       "\n",
       "    .dataframe tbody tr th {\n",
       "        vertical-align: top;\n",
       "    }\n",
       "\n",
       "    .dataframe thead th {\n",
       "        text-align: right;\n",
       "    }\n",
       "</style>\n",
       "<table border=\"1\" class=\"dataframe\">\n",
       "  <thead>\n",
       "    <tr style=\"text-align: right;\">\n",
       "      <th></th>\n",
       "      <th>index</th>\n",
       "      <th>fecha reporte web</th>\n",
       "      <th>ID de caso</th>\n",
       "      <th>Nombre departamento</th>\n",
       "      <th>Nombre municipio</th>\n",
       "      <th>Edad</th>\n",
       "      <th>Unidad de medida de edad</th>\n",
       "      <th>Sexo</th>\n",
       "      <th>Estado</th>\n",
       "    </tr>\n",
       "  </thead>\n",
       "  <tbody>\n",
       "    <tr>\n",
       "      <th>0</th>\n",
       "      <td>1</td>\n",
       "      <td>2020-03-06</td>\n",
       "      <td>1</td>\n",
       "      <td>BOGOTA</td>\n",
       "      <td>BOGOTA</td>\n",
       "      <td>19</td>\n",
       "      <td>1</td>\n",
       "      <td>F</td>\n",
       "      <td>Leve</td>\n",
       "    </tr>\n",
       "    <tr>\n",
       "      <th>1</th>\n",
       "      <td>2</td>\n",
       "      <td>2020-03-09</td>\n",
       "      <td>2</td>\n",
       "      <td>VALLE</td>\n",
       "      <td>BUGA</td>\n",
       "      <td>34</td>\n",
       "      <td>1</td>\n",
       "      <td>M</td>\n",
       "      <td>Leve</td>\n",
       "    </tr>\n",
       "    <tr>\n",
       "      <th>2</th>\n",
       "      <td>3</td>\n",
       "      <td>2020-03-09</td>\n",
       "      <td>3</td>\n",
       "      <td>ANTIOQUIA</td>\n",
       "      <td>MEDELLIN</td>\n",
       "      <td>50</td>\n",
       "      <td>1</td>\n",
       "      <td>F</td>\n",
       "      <td>Leve</td>\n",
       "    </tr>\n",
       "    <tr>\n",
       "      <th>3</th>\n",
       "      <td>4</td>\n",
       "      <td>2020-03-11</td>\n",
       "      <td>4</td>\n",
       "      <td>ANTIOQUIA</td>\n",
       "      <td>MEDELLIN</td>\n",
       "      <td>55</td>\n",
       "      <td>1</td>\n",
       "      <td>M</td>\n",
       "      <td>Leve</td>\n",
       "    </tr>\n",
       "    <tr>\n",
       "      <th>4</th>\n",
       "      <td>5</td>\n",
       "      <td>2020-03-11</td>\n",
       "      <td>5</td>\n",
       "      <td>ANTIOQUIA</td>\n",
       "      <td>MEDELLIN</td>\n",
       "      <td>25</td>\n",
       "      <td>1</td>\n",
       "      <td>M</td>\n",
       "      <td>Leve</td>\n",
       "    </tr>\n",
       "  </tbody>\n",
       "</table>\n",
       "</div>"
      ],
      "text/plain": [
       "   index fecha reporte web  ID de caso Nombre departamento Nombre municipio  \\\n",
       "0      1        2020-03-06           1              BOGOTA           BOGOTA   \n",
       "1      2        2020-03-09           2               VALLE             BUGA   \n",
       "2      3        2020-03-09           3           ANTIOQUIA         MEDELLIN   \n",
       "3      4        2020-03-11           4           ANTIOQUIA         MEDELLIN   \n",
       "4      5        2020-03-11           5           ANTIOQUIA         MEDELLIN   \n",
       "\n",
       "   Edad  Unidad de medida de edad Sexo Estado  \n",
       "0    19                         1    F   Leve  \n",
       "1    34                         1    M   Leve  \n",
       "2    50                         1    F   Leve  \n",
       "3    55                         1    M   Leve  \n",
       "4    25                         1    M   Leve  "
      ]
     },
     "execution_count": 3,
     "metadata": {},
     "output_type": "execute_result"
    }
   ],
   "source": [
    "import pandas as pd\n",
    "\n",
    "df = pd.read_csv('input_data/COVCOLI.csv', sep=',')\n",
    "df.head()"
   ]
  },
  {
   "cell_type": "markdown",
   "metadata": {},
   "source": [
    "### Solución"
   ]
  },
  {
   "cell_type": "code",
   "execution_count": 4,
   "metadata": {},
   "outputs": [],
   "source": [
    "import pandas as pd\n",
    "\n",
    "input_path = 'input_data/COVCOLI.csv'\n",
    "output_path = 'output_data/analisis_covcol1_pandas.csv'\n",
    "\n",
    "input_df = pd.read_csv(input_path, sep=',')\n",
    "output_df = pd.DataFrame(\n",
    "    columns = ['Sexo', 'Edad en agnos', 'Concepto'],\n",
    "    index = input_df.index\n",
    ")\n",
    "\n",
    "for row in input_df.index:\n",
    "    \n",
    "    unit = input_df.loc[row, 'Unidad de medida de edad']\n",
    "    age = input_df.loc[row, 'Edad']\n",
    "    sex = input_df.loc[row, 'Sexo']\n",
    "    \n",
    "    #Edad:\n",
    "    if unit == '2': #edad en meses\n",
    "        age //= 12\n",
    "    elif unit == '3': #edad en días\n",
    "        age //= 365\n",
    "    \n",
    "    #Concepto:\n",
    "    if age < 6:\n",
    "        concept = 'Primera infancia'\n",
    "    elif 6 <= age < 12:\n",
    "        concept = 'Infante'\n",
    "    elif 12 <= age < 18:\n",
    "        concept = 'Adolescente'\n",
    "    elif 18 <= age < 60:\n",
    "        concept = 'Adulto'\n",
    "    else:\n",
    "        concept = 'Persona mayor'\n",
    "    \n",
    "    output_df.loc[row] = [sex, age, concept]\n",
    "\n",
    "output_df.to_csv(output_path, sep=';', index=False)"
   ]
  }
 ],
 "metadata": {
  "kernelspec": {
   "display_name": "Python 3 (ipykernel)",
   "language": "python",
   "name": "python3"
  },
  "language_info": {
   "codemirror_mode": {
    "name": "ipython",
    "version": 3
   },
   "file_extension": ".py",
   "mimetype": "text/x-python",
   "name": "python",
   "nbconvert_exporter": "python",
   "pygments_lexer": "ipython3",
   "version": "3.9.7"
  }
 },
 "nbformat": 4,
 "nbformat_minor": 4
}
